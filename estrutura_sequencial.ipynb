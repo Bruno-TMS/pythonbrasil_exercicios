{
 "cells": [
  {
   "cell_type": "markdown",
   "metadata": {},
   "source": [
    "1. Faça um Programa que mostre a mensagem \"Alo mundo\" na tela."
   ]
  },
  {
   "cell_type": "code",
   "execution_count": 22,
   "metadata": {},
   "outputs": [
    {
     "name": "stdout",
     "output_type": "stream",
     "text": [
      "Olá, mundo!\n"
     ]
    }
   ],
   "source": [
    "print('Olá, mundo!')"
   ]
  },
  {
   "cell_type": "markdown",
   "metadata": {},
   "source": [
    "2. Faça um Programa que peça um número e então mostre a mensagem O número informado foi [número]."
   ]
  },
  {
   "cell_type": "code",
   "execution_count": 23,
   "metadata": {},
   "outputs": [
    {
     "name": "stdout",
     "output_type": "stream",
     "text": [
      "O número informado foi 23\n"
     ]
    }
   ],
   "source": [
    "numero  = input('digite o número')\n",
    "try:\n",
    "    float(numero.replace(',', '.'))\n",
    "   \n",
    "except:\n",
    "    print('O valor informado, não é um número.')\n",
    "\n",
    "else:\n",
    "     print(f'O número informado foi {numero}')"
   ]
  },
  {
   "cell_type": "markdown",
   "metadata": {},
   "source": [
    "3. Faça um Programa que peça dois números e imprima a soma."
   ]
  },
  {
   "cell_type": "code",
   "execution_count": 24,
   "metadata": {},
   "outputs": [
    {
     "name": "stdout",
     "output_type": "stream",
     "text": [
      "A soma de 56.0 e 48.0 = 104.0\n"
     ]
    }
   ],
   "source": [
    "numero1  = input('digite o primeiro número')\n",
    "numero2  = input('digite o segundo número')\n",
    "try:\n",
    "   numero1 = float(numero1.replace(',', '.'))\n",
    "   numero2 = float(numero2.replace(',', '.'))\n",
    "   \n",
    "except:\n",
    "    print('Um valor informado não é número')\n",
    "\n",
    "else:\n",
    "     print(f'A soma de {numero1} e {numero2} = {numero1 + numero2}')"
   ]
  },
  {
   "cell_type": "markdown",
   "metadata": {},
   "source": [
    "4. Faça um Programa que peça as 4 notas bimestrais e mostre a média."
   ]
  },
  {
   "cell_type": "code",
   "execution_count": 27,
   "metadata": {},
   "outputs": [
    {
     "name": "stdout",
     "output_type": "stream",
     "text": [
      "A média das notas é: 4.0\n"
     ]
    }
   ],
   "source": [
    "nota1 = input('digite a primeira nota')\n",
    "nota2 = input('digite a segunda nota')\n",
    "nota3 = input('digite a terceira nota')\n",
    "nota4 = input('digite a quarta nota')\n",
    "try:\n",
    "   nota1 = float(nota1.replace(',', '.'))\n",
    "   nota2 = float(nota2.replace(',', '.'))\n",
    "   nota3 = float(nota3.replace(',', '.'))\n",
    "   nota4 = float(nota4.replace(',', '.'))\n",
    "   \n",
    "except:\n",
    "    print('Um valor informado não é número')\n",
    "\n",
    "else:\n",
    "    media = (nota1 + nota2 + nota3 + nota4) / 4\n",
    "    print(f'A média das notas é: {media}')"
   ]
  },
  {
   "cell_type": "markdown",
   "metadata": {},
   "source": [
    "5. Faça um Programa que converta metros para centímetros"
   ]
  },
  {
   "cell_type": "code",
   "execution_count": 31,
   "metadata": {},
   "outputs": [
    {
     "name": "stdout",
     "output_type": "stream",
     "text": [
      "Unidade em metros: 9.0 , Equivale a 900.0 unidades em centímetro\n"
     ]
    }
   ],
   "source": [
    "metros = input('digite uma unidade em metros')\n",
    "\n",
    "try:\n",
    "   metros = float(metros.replace(',', '.'))\n",
    "   \n",
    "except:\n",
    "   print('Um valor informado não é número')\n",
    "\n",
    "else:\n",
    "    centimetros = metros * 100\n",
    "    print(f'Unidade em metros: {metros} , Equivale a {centimetros} unidades em centímetro')"
   ]
  },
  {
   "cell_type": "markdown",
   "metadata": {},
   "source": [
    "6. Faça um Programa que peça o raio de um círculo, calcule e mostre sua área."
   ]
  },
  {
   "cell_type": "code",
   "execution_count": 2,
   "metadata": {},
   "outputs": [
    {
     "name": "stdout",
     "output_type": "stream",
     "text": [
      "Um círculo de raio de: 4.0, tem uma área de: 50.2656\n"
     ]
    }
   ],
   "source": [
    "raio = input('digite o raio de um círculo')\n",
    "\n",
    "try:\n",
    "   raio = float(raio.replace(',', '.'))\n",
    "   \n",
    "except:\n",
    "   print('Um valor informado não é número')\n",
    "\n",
    "else:\n",
    "    pi =3.1416\n",
    "    area = pi * (raio**2)\n",
    "    print(f'Um círculo de raio de: {raio}, tem uma área de: {area}')"
   ]
  },
  {
   "cell_type": "markdown",
   "metadata": {},
   "source": [
    "7. Faça um Programa que calcule a área de um quadrado, em seguida mostre o dobro desta área para o usuário."
   ]
  },
  {
   "cell_type": "code",
   "execution_count": 4,
   "metadata": {},
   "outputs": [
    {
     "name": "stdout",
     "output_type": "stream",
     "text": [
      "O dobro da área do quadrado de lado: 36.0, é: 2592.0\n"
     ]
    }
   ],
   "source": [
    "lado = input('Digite valor do lado de um quadrado.')\n",
    "\n",
    "try:\n",
    "   lado = float(lado.replace(',', '.'))\n",
    "   \n",
    "except:\n",
    "   print('Um valor informado não é válido')\n",
    "\n",
    "else:\n",
    "    area_quadrado = lado ** 2\n",
    "   \n",
    "    print(f'O dobro da área do quadrado de lado: {lado}, é: {2 * area_quadrado}')"
   ]
  },
  {
   "cell_type": "markdown",
   "metadata": {},
   "source": [
    "8. Faça um Programa que pergunte quanto você ganha por hora e o número de horas trabalhadas no mês. Calcule e mostre o total do seu salário no referido mês."
   ]
  },
  {
   "cell_type": "code",
   "execution_count": 6,
   "metadata": {},
   "outputs": [
    {
     "name": "stdout",
     "output_type": "stream",
     "text": [
      "Um valor informada não é válido\n"
     ]
    }
   ],
   "source": [
    "ganho_hora = input('Quanto você ganha por hora?')\n",
    "hora_mes = input('Qual o número de horas trabalhadas no mês?')\n",
    "try:\n",
    "   ganho_hora = float(ganho_hora.replace(',', '.'))\n",
    "   hora_mes = float(hora_mes.replace(',', '.'))\n",
    "except:\n",
    "   print('Um valor informado não é válido')\n",
    "\n",
    "else:\n",
    "    salario = hora_mes * ganho_hora\n",
    "   \n",
    "    print(f'O total do seu salário no referido mês é de: {salario}')"
   ]
  },
  {
   "cell_type": "markdown",
   "metadata": {},
   "source": [
    "9. Faça um Programa que peça a temperatura em graus Fahrenheit, transforme e mostre a temperatura em graus Celsius. C = 5 * ((F-32) / 9)."
   ]
  },
  {
   "cell_type": "code",
   "execution_count": 10,
   "metadata": {},
   "outputs": [
    {
     "name": "stdout",
     "output_type": "stream",
     "text": [
      "O valor de 33.0° Fahrenheit, são 0.5555555555555556°  Celsius.\n"
     ]
    }
   ],
   "source": [
    "temp_fahrenheit = input('Digite a temperatura em Graus Fahrenheit.')\n",
    "\n",
    "try:\n",
    "   temp_fahrenheit = float(temp_fahrenheit.replace(',', '.'))\n",
    "  \n",
    "except:\n",
    "   print('Um valor informado não é válido')\n",
    "\n",
    "else:\n",
    "    temp_celsius = 5 * ((temp_fahrenheit - 32) / 9)\n",
    "   \n",
    "    print(f'O valor de {temp_fahrenheit}° Fahrenheit, são {temp_celsius}°  Celsius.')"
   ]
  },
  {
   "cell_type": "markdown",
   "metadata": {},
   "source": [
    "10. Faça um Programa que peça a temperatura em graus Celsius, transforme e mostre em graus Fahrenheit.  F = C x 1,8 + 32 "
   ]
  },
  {
   "cell_type": "code",
   "execution_count": 11,
   "metadata": {},
   "outputs": [
    {
     "name": "stdout",
     "output_type": "stream",
     "text": [
      "O valor de 40.0°  Celsius , são 104.0° Fahrenheit.\n"
     ]
    }
   ],
   "source": [
    "temp_celsius = input('Digite a temperatura em Graus Celsius.')\n",
    "\n",
    "try:\n",
    "   temp_celsius = float(temp_celsius.replace(',', '.'))\n",
    "  \n",
    "except:\n",
    "   print('Um valor informado não é válido')\n",
    "\n",
    "else:\n",
    "    temp_fahrenheit = temp_celsius * 1.8 + 32\n",
    "   \n",
    "    print(f'O valor de {temp_celsius}°  Celsius , são {temp_fahrenheit}° Fahrenheit.')"
   ]
  }
 ],
 "metadata": {
  "kernelspec": {
   "display_name": ".venv",
   "language": "python",
   "name": "python3"
  },
  "language_info": {
   "codemirror_mode": {
    "name": "ipython",
    "version": 3
   },
   "file_extension": ".py",
   "mimetype": "text/x-python",
   "name": "python",
   "nbconvert_exporter": "python",
   "pygments_lexer": "ipython3",
   "version": "3.10.12"
  }
 },
 "nbformat": 4,
 "nbformat_minor": 2
}
