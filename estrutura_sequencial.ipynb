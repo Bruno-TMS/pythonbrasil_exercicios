{
 "cells": [
  {
   "cell_type": "markdown",
   "metadata": {},
   "source": [
    "1. Faça um Programa que mostre a mensagem \"Alo mundo\" na tela."
   ]
  },
  {
   "cell_type": "code",
   "execution_count": 1,
   "metadata": {},
   "outputs": [
    {
     "name": "stdout",
     "output_type": "stream",
     "text": [
      "Olá, mundo!\n"
     ]
    }
   ],
   "source": [
    "print('Olá, mundo!')"
   ]
  },
  {
   "cell_type": "markdown",
   "metadata": {},
   "source": [
    "2. Faça um Programa que peça um número e então mostre a mensagem O número informado foi [número]."
   ]
  },
  {
   "cell_type": "code",
   "execution_count": 3,
   "metadata": {},
   "outputs": [
    {
     "name": "stdout",
     "output_type": "stream",
     "text": [
      "O valor informado não é válido.\n"
     ]
    }
   ],
   "source": [
    "numero  = input('Digite um número.')\n",
    "try:\n",
    "    numero = float(numero.replace(',', '.'))\n",
    "    \n",
    "except:\n",
    "    print('O valor informado não é válido.')\n",
    "\n",
    "else:\n",
    "    print(f'O número informado foi {numero}.')"
   ]
  },
  {
   "cell_type": "markdown",
   "metadata": {},
   "source": [
    "3. Faça um Programa que peça dois números e imprima a soma."
   ]
  },
  {
   "cell_type": "code",
   "execution_count": 4,
   "metadata": {},
   "outputs": [
    {
     "name": "stdout",
     "output_type": "stream",
     "text": [
      "Um valor informado não é válido.\n"
     ]
    }
   ],
   "source": [
    "numero1  = input('Digite o primeiro número.')\n",
    "numero2  = input('Digite o segundo número.')\n",
    "try:\n",
    "    numero1 = float(numero1.replace(',', '.'))\n",
    "    numero2 = float(numero2.replace(',', '.'))\n",
    "    \n",
    "except:\n",
    "    print('Um valor informado não é válido.')\n",
    "\n",
    "else:\n",
    "    print(f'A soma de {numero1} e {numero2} = {numero1 + numero2}.')"
   ]
  },
  {
   "cell_type": "markdown",
   "metadata": {},
   "source": [
    "4. Faça um Programa que peça as 4 notas bimestrais e mostre a média."
   ]
  },
  {
   "cell_type": "code",
   "execution_count": 5,
   "metadata": {},
   "outputs": [
    {
     "name": "stdout",
     "output_type": "stream",
     "text": [
      "Um valor informado não é válido.\n"
     ]
    }
   ],
   "source": [
    "nota1 = input('digite a primeira nota')\n",
    "nota2 = input('digite a segunda nota')\n",
    "nota3 = input('digite a terceira nota')\n",
    "nota4 = input('digite a quarta nota')\n",
    "try:\n",
    "    nota1 = float(nota1.replace(',', '.'))\n",
    "    nota2 = float(nota2.replace(',', '.'))\n",
    "    nota3 = float(nota3.replace(',', '.'))\n",
    "    nota4 = float(nota4.replace(',', '.'))\n",
    "\n",
    "except:\n",
    "    print('Um valor informado não é válido.')\n",
    "\n",
    "else:\n",
    "    somatorio = (nota1 + nota2 + nota3 + nota4) \n",
    "    media = somatorio / 4\n",
    "    print(f'Somatório das notas: {nota1} + {nota2} + {nota3} + {nota4} = {somatorio}.')\n",
    "    print(f'Média das notas: {media}.')"
   ]
  },
  {
   "cell_type": "markdown",
   "metadata": {},
   "source": [
    "5. Faça um Programa que converta metros para centímetros"
   ]
  },
  {
   "cell_type": "code",
   "execution_count": 6,
   "metadata": {},
   "outputs": [
    {
     "name": "stdout",
     "output_type": "stream",
     "text": [
      "Um valor informado não é válido.\n"
     ]
    }
   ],
   "source": [
    "metros = input('digite uma unidade em metros')\n",
    "\n",
    "try:\n",
    "   metros = float(metros.replace(',', '.'))\n",
    "   \n",
    "except:\n",
    "   print('Um valor informado não é válido.')\n",
    "\n",
    "else:\n",
    "   centimetros = metros * 100\n",
    "   print(f'Conversão metros para centímetros: {metros} m = {centimetros} cm.')"
   ]
  },
  {
   "cell_type": "markdown",
   "metadata": {},
   "source": [
    "6. Faça um Programa que peça o raio de um círculo, calcule e mostre sua área."
   ]
  },
  {
   "cell_type": "code",
   "execution_count": 7,
   "metadata": {},
   "outputs": [
    {
     "name": "stdout",
     "output_type": "stream",
     "text": [
      "Um valor informado não é válido.\n"
     ]
    }
   ],
   "source": [
    "raio = input('Digite o raio de um círculo.')\n",
    "\n",
    "try:\n",
    "   raio = float(raio.replace(',', '.'))\n",
    "   \n",
    "except:\n",
    "   print('Um valor informado não é válido.')\n",
    "\n",
    "else:\n",
    "   pi =3.1416\n",
    "   area = pi * (raio**2)\n",
    "   print(f'Área do círculo:  pi * {raio} ** 2 = {area}.')"
   ]
  },
  {
   "cell_type": "markdown",
   "metadata": {},
   "source": [
    "7. Faça um Programa que calcule a área de um quadrado, em seguida mostre o dobro desta área para o usuário."
   ]
  },
  {
   "cell_type": "code",
   "execution_count": 8,
   "metadata": {},
   "outputs": [
    {
     "name": "stdout",
     "output_type": "stream",
     "text": [
      "O valor informado não é válido.\n"
     ]
    }
   ],
   "source": [
    "lado = input('Digite valor do lado de um quadrado.')\n",
    "\n",
    "try:\n",
    "   lado = float(lado.replace(',', '.'))\n",
    "   \n",
    "except:\n",
    "   print('O valor informado não é válido.')\n",
    "\n",
    "else:\n",
    "   area_quadrado = lado ** 2\n",
    "   \n",
    "   print(f'O dobro da área do quadrado: ({lado} * {lado}) * 2 = {2 * area_quadrado}.')"
   ]
  },
  {
   "cell_type": "markdown",
   "metadata": {},
   "source": [
    "8. Faça um Programa que pergunte quanto você ganha por hora e o número de horas trabalhadas no mês. Calcule e mostre o total do seu salário no referido mês."
   ]
  },
  {
   "cell_type": "code",
   "execution_count": 9,
   "metadata": {},
   "outputs": [
    {
     "name": "stdout",
     "output_type": "stream",
     "text": [
      "Um valor informado não é válido.\n"
     ]
    }
   ],
   "source": [
    "ganho_hora = input('Quanto você ganha por hora?')\n",
    "hora_mes = input('Qual o número de horas trabalhadas no mês?')\n",
    "try:\n",
    "   ganho_hora = float(ganho_hora.replace(',', '.'))\n",
    "   hora_mes = float(hora_mes.replace(',', '.'))\n",
    "except:\n",
    "   print('Um valor informado não é válido.')\n",
    "\n",
    "else:\n",
    "   salario = hora_mes * ganho_hora\n",
    "   \n",
    "   print(f\"\"\"Ganho por hora: R${ganho_hora}/h.\n",
    "Horas trabalhadas no mês: {hora_mes}h.\n",
    "O total do seu salário no referido mês é de: R${salario}.\"\"\")"
   ]
  },
  {
   "cell_type": "markdown",
   "metadata": {},
   "source": [
    "9. Faça um Programa que peça a temperatura em graus Fahrenheit, transforme e mostre a temperatura em graus Celsius. C = 5 * ((F-32) / 9)."
   ]
  },
  {
   "cell_type": "code",
   "execution_count": 10,
   "metadata": {},
   "outputs": [
    {
     "name": "stdout",
     "output_type": "stream",
     "text": [
      "O valor informado não é válido.\n"
     ]
    }
   ],
   "source": [
    "temp_fahrenheit = input('Digite a temperatura em Graus Fahrenheit.')\n",
    "\n",
    "try:\n",
    "   temp_fahrenheit = float(temp_fahrenheit.replace(',', '.'))\n",
    "\n",
    "except:\n",
    "   print('O valor informado não é válido.')\n",
    "\n",
    "else:\n",
    "   temp_celsius = 5 * ((temp_fahrenheit - 32) / 9)\n",
    "   \n",
    "   print(f'O valor de {temp_fahrenheit}°F, são {temp_celsius}°C.')"
   ]
  },
  {
   "cell_type": "markdown",
   "metadata": {},
   "source": [
    "10. Faça um Programa que peça a temperatura em graus Celsius, transforme e mostre em graus Fahrenheit.  F = C x 1,8 + 32 "
   ]
  },
  {
   "cell_type": "code",
   "execution_count": 11,
   "metadata": {},
   "outputs": [
    {
     "name": "stdout",
     "output_type": "stream",
     "text": [
      "O valor informado não é válido.\n"
     ]
    }
   ],
   "source": [
    "temp_celsius = input('Digite a temperatura em Graus Celsius.')\n",
    "\n",
    "try:\n",
    "   temp_celsius = float(temp_celsius.replace(',', '.'))\n",
    "  \n",
    "except:\n",
    "   print('O valor informado não é válido.')\n",
    "\n",
    "else:\n",
    "   temp_fahrenheit = temp_celsius * 1.8 + 32\n",
    "   \n",
    "   print(f'O valor de {temp_celsius}°C, são {temp_fahrenheit}°F.')"
   ]
  },
  {
   "cell_type": "markdown",
   "metadata": {},
   "source": [
    "11. Faça um Programa que peça 2 números inteiros e um número real. Calcule e mostre:\n",
    "o produto do dobro do primeiro com metade do segundo .\n",
    "a soma do triplo do primeiro com o terceiro.\n",
    "o terceiro elevado ao cubo."
   ]
  },
  {
   "cell_type": "code",
   "execution_count": 12,
   "metadata": {},
   "outputs": [
    {
     "name": "stdout",
     "output_type": "stream",
     "text": [
      "Um valor informado não é válido.\n"
     ]
    }
   ],
   "source": [
    "primeiro_numero = input('Digite o primeiro número inteiro')\n",
    "segundo_numero = input('Digite o segundo número inteiro')\n",
    "terceiro_numero = input('Digite um número real')\n",
    "\n",
    "try:\n",
    "    \n",
    "    primeiro_numero = float(primeiro_numero.replace(',', '.'))\n",
    "    segundo_numero = float(segundo_numero.replace(',', '.'))\n",
    "    terceiro_numero = float(terceiro_numero.replace(',', '.'))\n",
    "    \n",
    "except:\n",
    "    print('Um valor informado não é válido.')\n",
    "\n",
    "else:\n",
    "    is_primeiro_numero_inteiro = (primeiro_numero // 1) == primeiro_numero\n",
    "    is_segundo_numero_inteiro = (segundo_numero // 1) == segundo_numero\n",
    "    is_terceiro_numero_real = (terceiro_numero // 1) != terceiro_numero\n",
    "    \n",
    "    if is_primeiro_numero_inteiro and is_segundo_numero_inteiro and is_terceiro_numero_real:\n",
    "        primeiro_numero = int(primeiro_numero)\n",
    "        segundo_numero = int(segundo_numero)\n",
    "        r1 = (primeiro_numero * 2) * (segundo_numero / 2)\n",
    "        r2 = (primeiro_numero * 3) + terceiro_numero\n",
    "        r3 = terceiro_numero ** 3\n",
    "        print(f'Primeiro número: {primeiro_numero}.')\n",
    "        print(f'Segundo número: {segundo_numero}.')\n",
    "        print(f'Terceiro número: {terceiro_numero}.')\n",
    "        print(f'({primeiro_numero} * 2) * ({segundo_numero} / 2) = {r1}.')\n",
    "        print(f'({primeiro_numero} * 3) + {terceiro_numero} = {r2}.')\n",
    "        print(f'{terceiro_numero} ** 3 = {r3}.')\n",
    "        \n",
    "    else:\n",
    "        if not is_primeiro_numero_inteiro:\n",
    "            print(f'O primeiro número \"{primeiro_numero}\", náo é um número inteiro.')\n",
    "        \n",
    "        if not is_segundo_numero_inteiro:\n",
    "            print(f'O segundo número \"{segundo_numero}\", náo é um número inteiro.')\n",
    "        \n",
    "        if not is_terceiro_numero_real:\n",
    "            print(f'O terceiro número \"{int(terceiro_numero)}\", náo é um número real.')"
   ]
  },
  {
   "cell_type": "markdown",
   "metadata": {},
   "source": [
    "12. Tendo como dados de entrada a altura de uma pessoa, construa um algoritmo que calcule seu peso ideal, usando a seguinte fórmula: (72.7*altura) - 58"
   ]
  },
  {
   "cell_type": "code",
   "execution_count": 13,
   "metadata": {},
   "outputs": [
    {
     "name": "stdout",
     "output_type": "stream",
     "text": [
      "O valor informado não é válido.\n"
     ]
    }
   ],
   "source": [
    "altura_pessoa = input('Informe a altura de uma pessoa.')\n",
    "\n",
    "try:\n",
    "   altura_pessoa = float(altura_pessoa.replace(',', '.'))\n",
    " \n",
    "except:\n",
    "   print('O valor informado não é válido.')\n",
    "\n",
    "else:\n",
    "   peso_ideal = (72.7 * altura_pessoa) - 58\n",
    "   \n",
    "   print(f\"\"\"O peso ideal calculado desta pessoa é: {peso_ideal}\"\"\")"
   ]
  },
  {
   "cell_type": "markdown",
   "metadata": {},
   "source": [
    "13. Tendo como dado de entrada a altura (h) de uma pessoa, construa um algoritmo que calcule seu peso ideal, utilizando as seguintes fórmulas:\n",
    "Para homens: (72.7*h) - 58\n",
    "Para mulheres: (62.1*h) - 44.7"
   ]
  },
  {
   "cell_type": "code",
   "execution_count": 14,
   "metadata": {},
   "outputs": [
    {
     "name": "stdout",
     "output_type": "stream",
     "text": [
      "O valor informado não é válido.\n"
     ]
    }
   ],
   "source": [
    "altura_pessoa = input('Informe a altura de uma pessoa.')\n",
    "\n",
    "try:\n",
    "   altura_pessoa = float(altura_pessoa.replace(',', '.'))\n",
    " \n",
    "except:\n",
    "   print('O valor informado não é válido.')\n",
    "\n",
    "else:\n",
    "   peso_ideal_homens = (72.7 * altura_pessoa) - 58\n",
    "   peso_ideal_mulheres = (62.1 * altura_pessoa) - 44.7\n",
    "   \n",
    "   print(f\"\"\"O peso ideal calculado desta pessoa é: \n",
    "         para homens: {peso_ideal_homens}\n",
    "         paa mulheres: {peso_ideal_mulheres}\n",
    "         \"\"\")"
   ]
  },
  {
   "cell_type": "markdown",
   "metadata": {},
   "source": [
    "14. João Papo-de-Pescador, homem de bem, comprou um microcomputador para controlar o rendimento diário de seu trabalho. Toda vez que ele traz um peso de peixes maior que o estabelecido pelo regulamento de pesca do estado de São Paulo (50 quilos) deve pagar uma multa de R$ 4,00 por quilo excedente. João precisa que você faça um programa que leia a variável peso (peso de peixes) e calcule o excesso. Gravar na variável excesso a quantidade de quilos além do limite e na variável multa o valor da multa que João deverá pagar. Imprima os dados do programa com as mensagens adequadas."
   ]
  },
  {
   "cell_type": "code",
   "execution_count": 15,
   "metadata": {},
   "outputs": [
    {
     "name": "stdout",
     "output_type": "stream",
     "text": [
      "O valor informado não é válido.\n"
     ]
    }
   ],
   "source": [
    "multa_quilo_excedente = 4.00\n",
    "peso_peixe_regulamentado = 50.00\n",
    "\n",
    "multa_gerada = 0.00\n",
    "peso_peixes_excedido = 0.00\n",
    "\n",
    "peso_de_peixes_pescado = input('Olá João Papo-de-Pescador. Por favor, informe o peso (kg) dos peixes pescados:  ')\n",
    "\n",
    "try:\n",
    "   peso_de_peixes_pescado = float(peso_de_peixes_pescado.replace(',', '.'))\n",
    " \n",
    "except:\n",
    "   print('O valor informado não é válido.')\n",
    "\n",
    "else:\n",
    "   if  peso_de_peixes_pescado > peso_peixe_regulamentado:\n",
    "      peso_peixes_excedido =  round((peso_de_peixes_pescado - peso_peixe_regulamentado), 2)\n",
    "      multa_gerada = round(peso_peixes_excedido * multa_quilo_excedente, 2)\n",
    "      \n",
    "      print(f\"\"\"\n",
    "            O peso dos peixes pescado não está em conformidade com o estabelecido pelo regulamento de pesca do estado de São Paulo ({peso_peixe_regulamentado} Kg).\n",
    "            \n",
    "            Peso regulamentado: {peso_peixe_regulamentado} kg\n",
    "            \n",
    "            Multa por quilo excedente: R$ {(multa_quilo_excedente)}\n",
    "            \n",
    "            -------------------------------\n",
    "            \n",
    "            Peso dos peixes pescados: {peso_de_peixes_pescado} kg\n",
    "            \n",
    "            Peso excedido: {peso_peixes_excedido} Kg\n",
    "            \n",
    "            Multa a pagar: R$ {multa_gerada}\"\"\")\n",
    "   \n",
    "   else:\n",
    "      print(f'O peso dos peixes pescado está em conformidade com o estabelecido pelo regulamento de pesca do estado de São Paulo ({peso_peixe_regulamentado} Kg).')"
   ]
  },
  {
   "cell_type": "markdown",
   "metadata": {},
   "source": [
    "15. Faça um Programa que pergunte quanto você ganha por hora e o número de horas trabalhadas no mês. Calcule e mostre o total do seu salário no referido mês, sabendo-se que são descontados 11% para o Imposto de Renda, 8% para o INSS e 5% para o sindicato, faça um programa que nos dê:\n",
    "salário bruto.\n",
    "quanto pagou ao INSS.\n",
    "quanto pagou ao sindicato.\n",
    "o salário líquido.\n",
    "calcule os descontos e o salário líquido, conforme a tabela abaixo:\n",
    "\n",
    "+ Salário Bruto : R$\n",
    "- IR (11%) : R$\n",
    "- INSS (8%) : R$\n",
    "- Sindicato ( 5%) : R$\n",
    "= Salário Liquido : R$"
   ]
  },
  {
   "cell_type": "code",
   "execution_count": 29,
   "metadata": {},
   "outputs": [
    {
     "name": "stdout",
     "output_type": "stream",
     "text": [
      "\n",
      "        + Salário Bruto : R$467.25\n",
      "        \n",
      "        - IR (11.0%) : R$51.3975\n",
      "        - INSS (8.0%) : R$37.38\n",
      "        - Sindicato (0.05 * 100%) : R$23.3625\n",
      "        \n",
      "        *descontos totais: R$112.14\n",
      "        -----------------------------------------\n",
      "        \n",
      "        = Salário Liquido : R$355.11\n"
     ]
    }
   ],
   "source": [
    "def rep_pt(valor: str)-> str:\n",
    "    return valor.replace(',','.')\n",
    "\n",
    "\n",
    "def get_respostas():\n",
    "    ganho_por_hora = rep_pt(input('Digite o valor de quanto você ganha por hora: '))\n",
    "    numero_horas_trabalhadas_mes = rep_pt(input('Digite o valor de horas trabalhadas no mês: '))\n",
    "    \n",
    "    return ganho_por_hora, numero_horas_trabalhadas_mes\n",
    "\n",
    "\n",
    "def main():\n",
    "    \n",
    "    tx_descontos = {'imposto_renda': 0.11, 'inss': 0.08, 'sindicato':0.05}\n",
    "    ganho_por_hora, numero_horas_trabalhadas_mes = get_respostas()\n",
    "    \n",
    "    try:\n",
    "        ganho_por_hora =  float(ganho_por_hora)\n",
    "        numero_horas_trabalhadas_mes = float(numero_horas_trabalhadas_mes)\n",
    "        \n",
    "    except:\n",
    "        print('Um valor informado não é válido.')\n",
    "        print('Insira corretamente os valores.')\n",
    "        main()\n",
    "    \n",
    "    else:\n",
    "        salario_bruto = ganho_por_hora * numero_horas_trabalhadas_mes\n",
    "        cal_descontos = {k: salario_bruto * v for k, v in tx_descontos.items()}\n",
    "        descontos_totais = sum([x for x in cal_descontos.values()])\n",
    "        salario_liquido = salario_bruto - descontos_totais\n",
    "        \n",
    "        relatorio = f'''\n",
    "        + Salário Bruto : R${salario_bruto}\n",
    "        \n",
    "        - IR ({tx_descontos['imposto_renda'] * 100}%) : R${cal_descontos['imposto_renda']}\n",
    "        - INSS ({tx_descontos['inss'] * 100}%) : R${cal_descontos['inss']}\n",
    "        - Sindicato ({tx_descontos['sindicato']} * 100%) : R${cal_descontos['sindicato']}\n",
    "        \n",
    "        *descontos totais: R${descontos_totais}\n",
    "        -----------------------------------------\n",
    "        \n",
    "        = Salário Liquido : R${salario_liquido}'''\n",
    "        \n",
    "        \n",
    "        \n",
    "        print(relatorio)\n",
    "\n",
    "main()"
   ]
  }
 ],
 "metadata": {
  "kernelspec": {
   "display_name": ".venv",
   "language": "python",
   "name": "python3"
  },
  "language_info": {
   "codemirror_mode": {
    "name": "ipython",
    "version": 3
   },
   "file_extension": ".py",
   "mimetype": "text/x-python",
   "name": "python",
   "nbconvert_exporter": "python",
   "pygments_lexer": "ipython3",
   "version": "3.12.6"
  }
 },
 "nbformat": 4,
 "nbformat_minor": 2
}
