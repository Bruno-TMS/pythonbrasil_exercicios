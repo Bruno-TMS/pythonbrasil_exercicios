{
 "cells": [
  {
   "cell_type": "markdown",
   "metadata": {},
   "source": [
    "1. Faça um Programa que mostre a mensagem \"Alo mundo\" na tela."
   ]
  },
  {
   "cell_type": "code",
   "execution_count": 52,
   "metadata": {},
   "outputs": [
    {
     "name": "stdout",
     "output_type": "stream",
     "text": [
      "Olá, mundo!\n"
     ]
    }
   ],
   "source": [
    "print('Olá, mundo!')"
   ]
  },
  {
   "cell_type": "markdown",
   "metadata": {},
   "source": [
    "2. Faça um Programa que peça um número e então mostre a mensagem O número informado foi [número]."
   ]
  },
  {
   "cell_type": "code",
   "execution_count": 53,
   "metadata": {},
   "outputs": [
    {
     "name": "stdout",
     "output_type": "stream",
     "text": [
      "O número informado foi 4.5.\n"
     ]
    }
   ],
   "source": [
    "numero  = input('Digite um número.')\n",
    "try:\n",
    "    numero = float(numero.replace(',', '.'))\n",
    "    \n",
    "except:\n",
    "    print('O valor informado não é válido.')\n",
    "\n",
    "else:\n",
    "    print(f'O número informado foi {numero}.')"
   ]
  },
  {
   "cell_type": "markdown",
   "metadata": {},
   "source": [
    "3. Faça um Programa que peça dois números e imprima a soma."
   ]
  },
  {
   "cell_type": "code",
   "execution_count": 54,
   "metadata": {},
   "outputs": [
    {
     "name": "stdout",
     "output_type": "stream",
     "text": [
      "A soma de 8.6 e 4.36 = 12.96.\n"
     ]
    }
   ],
   "source": [
    "numero1  = input('Digite o primeiro número.')\n",
    "numero2  = input('Digite o segundo número.')\n",
    "try:\n",
    "    numero1 = float(numero1.replace(',', '.'))\n",
    "    numero2 = float(numero2.replace(',', '.'))\n",
    "    \n",
    "except:\n",
    "    print('Um valor informado não é válido.')\n",
    "\n",
    "else:\n",
    "    print(f'A soma de {numero1} e {numero2} = {numero1 + numero2}.')"
   ]
  },
  {
   "cell_type": "markdown",
   "metadata": {},
   "source": [
    "4. Faça um Programa que peça as 4 notas bimestrais e mostre a média."
   ]
  },
  {
   "cell_type": "code",
   "execution_count": 55,
   "metadata": {},
   "outputs": [
    {
     "name": "stdout",
     "output_type": "stream",
     "text": [
      "Somatório das notas: 5.3 + 6.8 + 7.3 + 6.2 = 25.599999999999998.\n",
      "Média das notas: 6.3999999999999995.\n"
     ]
    }
   ],
   "source": [
    "nota1 = input('digite a primeira nota')\n",
    "nota2 = input('digite a segunda nota')\n",
    "nota3 = input('digite a terceira nota')\n",
    "nota4 = input('digite a quarta nota')\n",
    "try:\n",
    "    nota1 = float(nota1.replace(',', '.'))\n",
    "    nota2 = float(nota2.replace(',', '.'))\n",
    "    nota3 = float(nota3.replace(',', '.'))\n",
    "    nota4 = float(nota4.replace(',', '.'))\n",
    "\n",
    "except:\n",
    "    print('Um valor informado não é válido.')\n",
    "\n",
    "else:\n",
    "    somatorio = (nota1 + nota2 + nota3 + nota4) \n",
    "    media = somatorio / 4\n",
    "    print(f'Somatório das notas: {nota1} + {nota2} + {nota3} + {nota4} = {somatorio}.')\n",
    "    print(f'Média das notas: {media}.')"
   ]
  },
  {
   "cell_type": "markdown",
   "metadata": {},
   "source": [
    "5. Faça um Programa que converta metros para centímetros"
   ]
  },
  {
   "cell_type": "code",
   "execution_count": 61,
   "metadata": {},
   "outputs": [
    {
     "name": "stdout",
     "output_type": "stream",
     "text": [
      "Conversão metros para centímetros: 4.36 m = 436.00000000000006 cm.\n"
     ]
    }
   ],
   "source": [
    "metros = input('digite uma unidade em metros')\n",
    "\n",
    "try:\n",
    "   metros = float(metros.replace(',', '.'))\n",
    "   \n",
    "except:\n",
    "   print('Um valor informado não é válido.')\n",
    "\n",
    "else:\n",
    "   centimetros = metros * 100\n",
    "   print(f'Conversão metros para centímetros: {metros} m = {centimetros} cm.')"
   ]
  },
  {
   "cell_type": "markdown",
   "metadata": {},
   "source": [
    "6. Faça um Programa que peça o raio de um círculo, calcule e mostre sua área."
   ]
  },
  {
   "cell_type": "code",
   "execution_count": 66,
   "metadata": {},
   "outputs": [
    {
     "name": "stdout",
     "output_type": "stream",
     "text": [
      "Área do círculo:  pi * 15.32 ** 2 = 737.3410598400001.\n"
     ]
    }
   ],
   "source": [
    "raio = input('Digite o raio de um círculo.')\n",
    "\n",
    "try:\n",
    "   raio = float(raio.replace(',', '.'))\n",
    "   \n",
    "except:\n",
    "   print('Um valor informado não é válido.')\n",
    "\n",
    "else:\n",
    "   pi =3.1416\n",
    "   area = pi * (raio**2)\n",
    "   print(f'Área do círculo:  pi * {raio} ** 2 = {area}.')"
   ]
  },
  {
   "cell_type": "markdown",
   "metadata": {},
   "source": [
    "7. Faça um Programa que calcule a área de um quadrado, em seguida mostre o dobro desta área para o usuário."
   ]
  },
  {
   "cell_type": "code",
   "execution_count": 69,
   "metadata": {},
   "outputs": [
    {
     "name": "stdout",
     "output_type": "stream",
     "text": [
      "O dobro da área do quadrado: (12.89 * 12.89) * 2 = 332.30420000000004.\n"
     ]
    }
   ],
   "source": [
    "lado = input('Digite valor do lado de um quadrado.')\n",
    "\n",
    "try:\n",
    "   lado = float(lado.replace(',', '.'))\n",
    "   \n",
    "except:\n",
    "   print('O valor informado não é válido.')\n",
    "\n",
    "else:\n",
    "   area_quadrado = lado ** 2\n",
    "   \n",
    "   print(f'O dobro da área do quadrado: ({lado} * {lado}) * 2 = {2 * area_quadrado}.')"
   ]
  },
  {
   "cell_type": "markdown",
   "metadata": {},
   "source": [
    "8. Faça um Programa que pergunte quanto você ganha por hora e o número de horas trabalhadas no mês. Calcule e mostre o total do seu salário no referido mês."
   ]
  },
  {
   "cell_type": "code",
   "execution_count": 78,
   "metadata": {},
   "outputs": [
    {
     "name": "stdout",
     "output_type": "stream",
     "text": [
      "Ganho por hora: R$12.5/h.\n",
      "Horas trabalhadas no mês: 55.0h.\n",
      "O total do seu salário no referido mês é de: R$687.5.\n"
     ]
    }
   ],
   "source": [
    "ganho_hora = input('Quanto você ganha por hora?')\n",
    "hora_mes = input('Qual o número de horas trabalhadas no mês?')\n",
    "try:\n",
    "   ganho_hora = float(ganho_hora.replace(',', '.'))\n",
    "   hora_mes = float(hora_mes.replace(',', '.'))\n",
    "except:\n",
    "   print('Um valor informado não é válido.')\n",
    "\n",
    "else:\n",
    "   salario = hora_mes * ganho_hora\n",
    "   \n",
    "   print(f\"\"\"Ganho por hora: R${ganho_hora}/h.\n",
    "Horas trabalhadas no mês: {hora_mes}h.\n",
    "O total do seu salário no referido mês é de: R${salario}.\"\"\")"
   ]
  },
  {
   "cell_type": "markdown",
   "metadata": {},
   "source": [
    "9. Faça um Programa que peça a temperatura em graus Fahrenheit, transforme e mostre a temperatura em graus Celsius. C = 5 * ((F-32) / 9)."
   ]
  },
  {
   "cell_type": "code",
   "execution_count": 73,
   "metadata": {},
   "outputs": [
    {
     "name": "stdout",
     "output_type": "stream",
     "text": [
      "O valor de 23.56°F, são -4.68888888888889°C.\n"
     ]
    }
   ],
   "source": [
    "temp_fahrenheit = input('Digite a temperatura em Graus Fahrenheit.')\n",
    "\n",
    "try:\n",
    "   temp_fahrenheit = float(temp_fahrenheit.replace(',', '.'))\n",
    "\n",
    "except:\n",
    "   print('O valor informado não é válido.')\n",
    "\n",
    "else:\n",
    "   temp_celsius = 5 * ((temp_fahrenheit - 32) / 9)\n",
    "   \n",
    "   print(f'O valor de {temp_fahrenheit}°F, são {temp_celsius}°C.')"
   ]
  },
  {
   "cell_type": "markdown",
   "metadata": {},
   "source": [
    "10. Faça um Programa que peça a temperatura em graus Celsius, transforme e mostre em graus Fahrenheit.  F = C x 1,8 + 32 "
   ]
  },
  {
   "cell_type": "code",
   "execution_count": 79,
   "metadata": {},
   "outputs": [
    {
     "name": "stdout",
     "output_type": "stream",
     "text": [
      "O valor de 63.2°C, são 145.76°F.\n"
     ]
    }
   ],
   "source": [
    "temp_celsius = input('Digite a temperatura em Graus Celsius.')\n",
    "\n",
    "try:\n",
    "   temp_celsius = float(temp_celsius.replace(',', '.'))\n",
    "  \n",
    "except:\n",
    "   print('O valor informado não é válido.')\n",
    "\n",
    "else:\n",
    "   temp_fahrenheit = temp_celsius * 1.8 + 32\n",
    "   \n",
    "   print(f'O valor de {temp_celsius}°C, são {temp_fahrenheit}°F.')"
   ]
  },
  {
   "cell_type": "markdown",
   "metadata": {},
   "source": [
    "11. Faça um Programa que peça 2 números inteiros e um número real. Calcule e mostre:\n",
    "o produto do dobro do primeiro com metade do segundo .\n",
    "a soma do triplo do primeiro com o terceiro.\n",
    "o terceiro elevado ao cubo."
   ]
  },
  {
   "cell_type": "code",
   "execution_count": 82,
   "metadata": {},
   "outputs": [
    {
     "name": "stdout",
     "output_type": "stream",
     "text": [
      "Primeiro número: 4.\n",
      "Segundo número: 8.\n",
      "Terceiro número: 16.5.\n",
      "(4 * 2) * (8 / 2) = 32.0.\n",
      "(4 * 3) + 16.5 = 28.5.\n",
      "16.5 ** 3 = 4492.125.\n"
     ]
    }
   ],
   "source": [
    "primeiro_numero = input('Digite o primeiro número inteiro')\n",
    "segundo_numero = input('Digite o segundo número inteiro')\n",
    "terceiro_numero = input('Digite um número real')\n",
    "\n",
    "try:\n",
    "    \n",
    "    primeiro_numero = float(primeiro_numero.replace(',', '.'))\n",
    "    segundo_numero = float(segundo_numero.replace(',', '.'))\n",
    "    terceiro_numero = float(terceiro_numero.replace(',', '.'))\n",
    "    \n",
    "except:\n",
    "    print('Um valor informado não é válido.')\n",
    "\n",
    "else:\n",
    "    is_primeiro_numero_inteiro = (primeiro_numero // 1) == primeiro_numero\n",
    "    is_segundo_numero_inteiro = (segundo_numero // 1) == segundo_numero\n",
    "    is_terceiro_numero_real = (terceiro_numero // 1) != terceiro_numero\n",
    "    \n",
    "    if is_primeiro_numero_inteiro and is_segundo_numero_inteiro and is_terceiro_numero_real:\n",
    "        primeiro_numero = int(primeiro_numero)\n",
    "        segundo_numero = int(segundo_numero)\n",
    "        r1 = (primeiro_numero * 2) * (segundo_numero / 2)\n",
    "        r2 = (primeiro_numero * 3) + terceiro_numero\n",
    "        r3 = terceiro_numero ** 3\n",
    "        print(f'Primeiro número: {primeiro_numero}.')\n",
    "        print(f'Segundo número: {segundo_numero}.')\n",
    "        print(f'Terceiro número: {terceiro_numero}.')\n",
    "        print(f'({primeiro_numero} * 2) * ({segundo_numero} / 2) = {r1}.')\n",
    "        print(f'({primeiro_numero} * 3) + {terceiro_numero} = {r2}.')\n",
    "        print(f'{terceiro_numero} ** 3 = {r3}.')\n",
    "        \n",
    "    else:\n",
    "        if not is_primeiro_numero_inteiro:\n",
    "            print(f'O primeiro número \"{primeiro_numero}\", náo é um número inteiro.')\n",
    "        \n",
    "        if not is_segundo_numero_inteiro:\n",
    "            print(f'O segundo número \"{segundo_numero}\", náo é um número inteiro.')\n",
    "        \n",
    "        if not is_terceiro_numero_real:\n",
    "            print(f'O terceiro número \"{int(terceiro_numero)}\", náo é um número real.')"
   ]
  }
 ],
 "metadata": {
  "kernelspec": {
   "display_name": ".venv",
   "language": "python",
   "name": "python3"
  },
  "language_info": {
   "codemirror_mode": {
    "name": "ipython",
    "version": 3
   },
   "file_extension": ".py",
   "mimetype": "text/x-python",
   "name": "python",
   "nbconvert_exporter": "python",
   "pygments_lexer": "ipython3",
   "version": "3.10.12"
  }
 },
 "nbformat": 4,
 "nbformat_minor": 2
}
