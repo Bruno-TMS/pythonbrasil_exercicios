{
 "cells": [
  {
   "cell_type": "markdown",
   "metadata": {},
   "source": [
    "Faça um Programa que mostre a mensagem \"Alo mundo\" na tela."
   ]
  },
  {
   "cell_type": "code",
   "execution_count": 22,
   "metadata": {},
   "outputs": [
    {
     "name": "stdout",
     "output_type": "stream",
     "text": [
      "Olá, mundo!\n"
     ]
    }
   ],
   "source": [
    "print('Olá, mundo!')"
   ]
  },
  {
   "cell_type": "markdown",
   "metadata": {},
   "source": [
    "Faça um Programa que peça um número e então mostre a mensagem O número informado foi [número]."
   ]
  },
  {
   "cell_type": "code",
   "execution_count": 23,
   "metadata": {},
   "outputs": [
    {
     "name": "stdout",
     "output_type": "stream",
     "text": [
      "O número informado foi 23\n"
     ]
    }
   ],
   "source": [
    "numero  = input('digite o número')\n",
    "try:\n",
    "    float(numero.replace(',', '.'))\n",
    "   \n",
    "except:\n",
    "    print('O valor informado, não é um número.')\n",
    "\n",
    "else:\n",
    "     print(f'O número informado foi {numero}')"
   ]
  },
  {
   "cell_type": "markdown",
   "metadata": {},
   "source": [
    "Faça um Programa que peça dois números e imprima a soma."
   ]
  },
  {
   "cell_type": "code",
   "execution_count": 24,
   "metadata": {},
   "outputs": [
    {
     "name": "stdout",
     "output_type": "stream",
     "text": [
      "A soma de 56.0 e 48.0 = 104.0\n"
     ]
    }
   ],
   "source": [
    "numero1  = input('digite o primeiro número')\n",
    "numero2  = input('digite o segundo número')\n",
    "try:\n",
    "   numero1 = float(numero1.replace(',', '.'))\n",
    "   numero2 = float(numero2.replace(',', '.'))\n",
    "   \n",
    "except:\n",
    "    print('Um valor informada não é número')\n",
    "\n",
    "else:\n",
    "     print(f'A soma de {numero1} e {numero2} = {numero1 + numero2}')"
   ]
  },
  {
   "cell_type": "markdown",
   "metadata": {},
   "source": [
    "Faça um Programa que peça as 4 notas bimestrais e mostre a média."
   ]
  },
  {
   "cell_type": "code",
   "execution_count": 27,
   "metadata": {},
   "outputs": [
    {
     "name": "stdout",
     "output_type": "stream",
     "text": [
      "A média das notas é: 4.0\n"
     ]
    }
   ],
   "source": [
    "nota1 = input('digite a primeira nota')\n",
    "nota2 = input('digite a segunda nota')\n",
    "nota3 = input('digite a terceira nota')\n",
    "nota4 = input('digite a quarta nota')\n",
    "try:\n",
    "   nota1 = float(nota1.replace(',', '.'))\n",
    "   nota2 = float(nota2.replace(',', '.'))\n",
    "   nota3 = float(nota3.replace(',', '.'))\n",
    "   nota4 = float(nota4.replace(',', '.'))\n",
    "   \n",
    "except:\n",
    "    print('Um valor informada não é número')\n",
    "\n",
    "else:\n",
    "    media = (nota1 + nota2 + nota3 + nota4) / 4\n",
    "    print(f'A média das notas é: {media}')"
   ]
  },
  {
   "cell_type": "markdown",
   "metadata": {},
   "source": [
    "Faça um Programa que converta metros para centímetros"
   ]
  },
  {
   "cell_type": "code",
   "execution_count": 31,
   "metadata": {},
   "outputs": [
    {
     "name": "stdout",
     "output_type": "stream",
     "text": [
      "Unidade em metros: 9.0 , Equivale a 900.0 unidades em centímetro\n"
     ]
    }
   ],
   "source": [
    "metros = input('digite uma unidade em metros')\n",
    "\n",
    "try:\n",
    "   metros = float(metros.replace(',', '.'))\n",
    "   \n",
    "except:\n",
    "   print('Um valor informada não é número')\n",
    "\n",
    "else:\n",
    "    centimetros = metros * 100\n",
    "    print(f'Unidade em metros: {metros} , Equivale a {centimetros} unidades em centímetro')"
   ]
  },
  {
   "cell_type": "markdown",
   "metadata": {},
   "source": [
    "Faça um Programa que peça o raio de um círculo, calcule e mostre sua área."
   ]
  },
  {
   "cell_type": "code",
   "execution_count": null,
   "metadata": {},
   "outputs": [],
   "source": []
  }
 ],
 "metadata": {
  "kernelspec": {
   "display_name": ".venv",
   "language": "python",
   "name": "python3"
  },
  "language_info": {
   "codemirror_mode": {
    "name": "ipython",
    "version": 3
   },
   "file_extension": ".py",
   "mimetype": "text/x-python",
   "name": "python",
   "nbconvert_exporter": "python",
   "pygments_lexer": "ipython3",
   "version": "3.10.12"
  }
 },
 "nbformat": 4,
 "nbformat_minor": 2
}
